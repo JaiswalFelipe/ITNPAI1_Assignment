{
  "nbformat": 4,
  "nbformat_minor": 0,
  "metadata": {
    "colab": {
      "name": "ImageClassification.ipynb",
      "provenance": [],
      "collapsed_sections": [
        "oPn-QGV9TfuI"
      ],
      "authorship_tag": "ABX9TyOOBkIc9htXekAgOoDnOG6T",
      "include_colab_link": true
    },
    "kernelspec": {
      "name": "python3",
      "display_name": "Python 3"
    },
    "language_info": {
      "name": "python"
    }
  },
  "cells": [
    {
      "cell_type": "markdown",
      "metadata": {
        "id": "view-in-github",
        "colab_type": "text"
      },
      "source": [
        "<a href=\"https://colab.research.google.com/github/JaiswalFelipe/ITNPAI1_Assignment/blob/main/ImageClassification.ipynb\" target=\"_parent\"><img src=\"https://colab.research.google.com/assets/colab-badge.svg\" alt=\"Open In Colab\"/></a>"
      ]
    },
    {
      "cell_type": "markdown",
      "source": [
        "# INITIAL"
      ],
      "metadata": {
        "id": "oPn-QGV9TfuI"
      }
    },
    {
      "cell_type": "code",
      "source": [
        "import tensorflow as tf\n",
        "import random\n",
        "import numpy as np\n",
        "import pandas as pd\n",
        "from matplotlib import pyplot as plt\n",
        "from sklearn.model_selection import train_test_split"
      ],
      "metadata": {
        "id": "FjoGCjriQE5s"
      },
      "execution_count": 2,
      "outputs": []
    },
    {
      "cell_type": "code",
      "source": [
        "# Train, val, test split\n",
        "(X_train, y_train), (X_test, y_test) = tf.keras.datasets.cifar10.load_data()\n",
        "X_train, X_val, y_train, y_val = train_test_split(X_train, y_train, test_size=0.20, random_state=1) \n",
        "\n",
        "print(\"Training set size:\", X_train.shape)\n",
        "print(\"Training set size:\", X_val.shape)\n",
        "print(\"Testing set size:\", X_test.shape)"
      ],
      "metadata": {
        "colab": {
          "base_uri": "https://localhost:8080/"
        },
        "id": "fE5yx1x-1W5_",
        "outputId": "d4cb5c9e-16ae-4ba5-91f8-0b6df783a26c"
      },
      "execution_count": 80,
      "outputs": [
        {
          "output_type": "stream",
          "name": "stdout",
          "text": [
            "Training set size: (40000, 32, 32, 3)\n",
            "Training set size: (10000, 32, 32, 3)\n",
            "Testing set size: (10000, 32, 32, 3)\n"
          ]
        }
      ]
    },
    {
      "cell_type": "code",
      "source": [
        "# Define the labels of the dataset\n",
        "classes = ['airplane', 'automobile', 'bird', 'cat', 'deer', \n",
        "          'dog', 'frog', 'horse', 'ship', 'truck']\n",
        "\n",
        "# Let's view more images in a grid format\n",
        "# Define the dimensions of the plot grid \n",
        "\n",
        "L_grid = 10\n",
        "\n",
        "# subplot return the figure object and axes object\n",
        "# we can use the axes object to plot specific figures at various locations\n",
        "\n",
        "fig, axes = plt.subplots(L_grid, figsize = (15,15))\n",
        "\n",
        "axes = axes.ravel() # flaten the 15 x 15 matrix into 225 array\n",
        "\n",
        "n_train = len(X_train) # get the length of the train dataset\n",
        "\n",
        "# Select a random number from 0 to n_train\n",
        "for i in np.arange(0, L_grid): # create evenly spaces variables \n",
        "\n",
        "    # Select a random number\n",
        "    index = np.random.randint(0, n_train)\n",
        "    # read and display an image with the selected index    \n",
        "    axes[i].imshow(X_train[index,10:])\n",
        "    class_index = int(y_train[index])\n",
        "    axes[i].set_title(classes[class_index], fontsize = 10)\n",
        "    axes[i].axis('off')"
      ],
      "metadata": {
        "id": "HqtwX8X42Wwi"
      },
      "execution_count": null,
      "outputs": []
    },
    {
      "cell_type": "code",
      "source": [
        "# Normalize data: divide each pixel value by 255 for each channel R,G,B \n",
        "# to normalize it to 0-1 range\n",
        "\n",
        "X_train = X_train / 255.0\n",
        "X_val = X_val / 255.0\n",
        "X_test = X_test / 255.0\n",
        "\n",
        "print(X_train[0].shape)\n",
        "print(X_train[0])"
      ],
      "metadata": {
        "id": "joK5jIU7GWWx"
      },
      "execution_count": null,
      "outputs": []
    },
    {
      "cell_type": "markdown",
      "source": [
        "# Training"
      ],
      "metadata": {
        "id": "lnK4_izDTVXx"
      }
    },
    {
      "cell_type": "code",
      "source": [
        "#!pip install d2l==0.16.2 # Uncomment and run this if you are using Google Colab"
      ],
      "metadata": {
        "id": "IgRDVgLQTK74"
      },
      "execution_count": null,
      "outputs": []
    },
    {
      "cell_type": "code",
      "source": [
        "# AlexNet\n",
        "import tensorflow as tf\n",
        "from d2l import tensorflow as d2l\n",
        "\n",
        "def net():\n",
        "  return tf.keras.models.Sequential([\n",
        "    # Here, we use a larger 11 x 11 window to capture objects. At the same\n",
        "    # time, we use a stride of 4 to greatly reduce the height and width of\n",
        "    # the output. Here, the number of output channels is much larger than\n",
        "    # that in LeNet\n",
        "    tf.keras.layers.Conv2D(filters=96, kernel_size=11, strides=4,\n",
        "\n",
        "    activation='relu'),\n",
        "    tf.keras.layers.MaxPool2D(pool_size=3, strides=2),\n",
        "    # Make the convolution window smaller, set padding to 2 for consistent\n",
        "    # height and width across the input and output, and increase the\n",
        "    # number of output channels\n",
        "    tf.keras.layers.Conv2D(filters=256, kernel_size=5, padding='same',\n",
        "\n",
        "    activation='relu'),\n",
        "    tf.keras.layers.MaxPool2D(pool_size=3, strides=2),\n",
        "    # Use three successive convolutional layers and a smaller convolution\n",
        "    # window. Except for the final convolutional layer, the number of\n",
        "\n",
        "    # output channels is further increased. Pooling layers are not used to\n",
        "    # reduce the height and width of input after the first two\n",
        "    # convolutional layers\n",
        "    tf.keras.layers.Conv2D(filters=384, kernel_size=3, padding='same',\n",
        "\n",
        "    activation='relu'),\n",
        "\n",
        "    tf.keras.layers.Conv2D(filters=384, kernel_size=3, padding='same',\n",
        "\n",
        "    activation='relu'),\n",
        "\n",
        "    tf.keras.layers.Conv2D(filters=256, kernel_size=3, padding='same',\n",
        "\n",
        "    activation='relu'),\n",
        "    tf.keras.layers.MaxPool2D(pool_size=3, strides=2),\n",
        "    tf.keras.layers.Flatten(),\n",
        "    # Here, the number of outputs of the fully-connected layer is several\n",
        "    # times larger than that in LeNet. Use the dropout layer to mitigate\n",
        "    # overfitting\n",
        "    tf.keras.layers.Dense(4096, activation='relu'),\n",
        "    tf.keras.layers.Dropout(0.5),\n",
        "    tf.keras.layers.Dense(4096, activation='relu'),\n",
        "    tf.keras.layers.Dropout(0.5),\n",
        "    # Output layer. Since we are using Fashion-MNIST, the number of\n",
        "    # classes is 10, instead of 1000 as in the paper\n",
        "    tf.keras.layers.Dense(10)])\n"
      ],
      "metadata": {
        "id": "ths7pp_2TFEz"
      },
      "execution_count": 95,
      "outputs": []
    },
    {
      "cell_type": "code",
      "source": [
        "class TrainCallback(tf.keras.callbacks.Callback): # Save\n",
        "  \"\"\"A callback to visiualize the training progress.\"\"\"\n",
        "  def __init__(self, net, train_iter, test_iter, num_epochs, device_name):\n",
        "    self.timer = d2l.Timer()\n",
        "    self.animator = d2l.Animator(\n",
        "      xlabel='epoch', xlim=[1, num_epochs],\n",
        "      legend=['train loss', 'train acc', 'test acc'])\n",
        "    self.net = net\n",
        "    self.train_iter = train_iter\n",
        "    self.test_iter = test_iter\n",
        "    self.num_epochs = num_epochs\n",
        "    self.device_name = device_name\n",
        "\n",
        "def on_epoch_begin(self, epoch, logs=None):\n",
        "  self.timer.start()\n",
        "\n",
        "def on_epoch_end(self, epoch, logs):\n",
        "    self.timer.stop()\n",
        "    test_acc = self.net.evaluate(self.test_iter, verbose=0,\n",
        "    return_dict=True)['accuracy']\n",
        "    \n",
        "    metrics = (logs['loss'], logs['accuracy'], test_acc)\n",
        "    self.animator.add(epoch + 1, metrics)\n",
        "    if epoch == self.num_epochs - 1:\n",
        "      batch_size = next(iter(self.train_iter))[0].shape[0]\n",
        "      num_examples = batch_size * tf.data.experimental.cardinality(\n",
        "      self.train_iter).numpy()\n",
        "      print(f'loss {metrics[0]:.3f}, train acc {metrics[1]:.3f}, '\n",
        "        f'test acc {metrics[2]:.3f}')\n",
        "      print(f'{num_examples / self.timer.avg():.1f} examples/sec on '\n",
        "        f'{str(self.device_name)}')\n",
        "\n",
        "# Save\n",
        "def train_ch6(net_fn, train_iter, test_iter, num_epochs, lr, device):\n",
        "  device_name = device._device_name\n",
        "  strategy = tf.distribute.OneDeviceStrategy(device_name)\n",
        "  with strategy.scope():\n",
        "    optimizer = tf.keras.optimizers.SGD(learning_rate=lr)\n",
        "    loss = tf.keras.losses.SparseCategoricalCrossentropy(from_logits=True)\n",
        "    net = net_fn()\n",
        "    net.compile(optimizer=optimizer, loss=loss, metrics=['accuracy'])\n",
        "  callback = TrainCallback(net, train_iter, test_iter, num_epochs,device_name)\n",
        "\n",
        "  net.fit(train_iter, epochs=num_epochs, verbose=0, callbacks=[callback])\n",
        "  return net"
      ],
      "metadata": {
        "id": "_ZBoQ-70LKIz"
      },
      "execution_count": 93,
      "outputs": []
    },
    {
      "cell_type": "code",
      "source": [
        "batch_size = 128\n",
        "train_iter, test_iter = d2l.load_data_fashion_mnist(batch_size, resize=224)"
      ],
      "metadata": {
        "id": "A9lWyFmwURmJ"
      },
      "execution_count": null,
      "outputs": []
    }
  ]
}